{
 "cells": [
  {
   "cell_type": "markdown",
   "id": "a61ea4bf",
   "metadata": {},
   "source": [
    "# Baseline Model"
   ]
  },
  {
   "cell_type": "code",
   "execution_count": 13,
   "id": "327653fc",
   "metadata": {},
   "outputs": [],
   "source": [
    "import requests\n",
    "import datetime\n",
    "import pandas as pd\n",
    "\n",
    "from evidently import ColumnMapping\n",
    "from evidently.report import Report\n",
    "from evidently.metrics import ColumnDriftMetric, DatasetDriftMetric, DatasetMissingValuesMetric\n",
    "\n",
    "from joblib import load, dump\n",
    "from tqdm import tqdm\n",
    "\n",
    "from sklearn.linear_model import LinearRegression\n",
    "from sklearn.metrics import mean_absolute_error, mean_absolute_percentage_error"
   ]
  },
  {
   "cell_type": "code",
   "execution_count": 18,
   "id": "25fe86e5",
   "metadata": {},
   "outputs": [
    {
     "name": "stdout",
     "output_type": "stream",
     "text": [
      "Download files:\n"
     ]
    },
    {
     "name": "stderr",
     "output_type": "stream",
     "text": [
      "\r",
      "  0%|          | 0.00/8.95M [00:00<?, ?B/s]"
     ]
    },
    {
     "name": "stdout",
     "output_type": "stream",
     "text": [
      "Downloading spotify-and-youtube.zip to ./data\n"
     ]
    },
    {
     "name": "stderr",
     "output_type": "stream",
     "text": [
      "100%|██████████| 8.95M/8.95M [00:01<00:00, 6.35MB/s]\n"
     ]
    },
    {
     "name": "stdout",
     "output_type": "stream",
     "text": [
      "\n",
      "File spotify-and-youtube.zip has been downloaded and saved to ./data\n",
      "File spotify-and-youtube.zip has been unzipped at ./data\n",
      "The zip file has been deleted\n"
     ]
    }
   ],
   "source": [
    "# Download the file which specifically for kaggle dataset\n",
    "\n",
    "import subprocess\n",
    "from tqdm import tqdm\n",
    "import os\n",
    "import kaggle\n",
    "import zipfile\n",
    "import shutil\n",
    "\n",
    "files = [('spotify-and-youtube.zip', './data')]\n",
    "\n",
    "print(\"Download files:\")\n",
    "for file, path in files:\n",
    "    os.makedirs(path, exist_ok=True)  # Ensures the directory exists\n",
    "    command = f\"kaggle datasets download -d salvatorerastelli/spotify-and-youtube -p {path}\"\n",
    "    resp = subprocess.run(command, shell=True, check=True)  # Runs the shell command\n",
    "\n",
    "    zip_path = f\"{path}/{file}\"\n",
    "\n",
    "    # Check if the file is downloaded and exists at the path\n",
    "    if os.path.isfile(zip_path):\n",
    "        print(f\"File {file} has been downloaded and saved to {path}\")\n",
    "\n",
    "        # Unzip the file\n",
    "        with zipfile.ZipFile(zip_path, 'r') as zip_ref:\n",
    "            zip_ref.extractall(path)\n",
    "            print(f\"File {file} has been unzipped at {path}\")\n",
    "        \n",
    "        os.remove(zip_path)\n",
    "        print(\"The zip file has been deleted\")\n",
    "        \n",
    "    else:\n",
    "        print(f\"Failed to download the file {file}\")\n",
    "    "
   ]
  },
  {
   "cell_type": "code",
   "execution_count": 20,
   "id": "f2c09680",
   "metadata": {},
   "outputs": [],
   "source": [
    "jan_data = pd.read_csv('data/Spotify_Youtube.csv')"
   ]
  },
  {
   "cell_type": "code",
   "execution_count": 21,
   "id": "9171ebcb",
   "metadata": {},
   "outputs": [
    {
     "data": {
      "text/html": [
       "<div>\n",
       "<style scoped>\n",
       "    .dataframe tbody tr th:only-of-type {\n",
       "        vertical-align: middle;\n",
       "    }\n",
       "\n",
       "    .dataframe tbody tr th {\n",
       "        vertical-align: top;\n",
       "    }\n",
       "\n",
       "    .dataframe thead th {\n",
       "        text-align: right;\n",
       "    }\n",
       "</style>\n",
       "<table border=\"1\" class=\"dataframe\">\n",
       "  <thead>\n",
       "    <tr style=\"text-align: right;\">\n",
       "      <th></th>\n",
       "      <th>Unnamed: 0</th>\n",
       "      <th>Danceability</th>\n",
       "      <th>Energy</th>\n",
       "      <th>Key</th>\n",
       "      <th>Loudness</th>\n",
       "      <th>Speechiness</th>\n",
       "      <th>Acousticness</th>\n",
       "      <th>Instrumentalness</th>\n",
       "      <th>Liveness</th>\n",
       "      <th>Valence</th>\n",
       "      <th>Tempo</th>\n",
       "      <th>Duration_ms</th>\n",
       "      <th>Views</th>\n",
       "      <th>Likes</th>\n",
       "      <th>Comments</th>\n",
       "      <th>Stream</th>\n",
       "    </tr>\n",
       "  </thead>\n",
       "  <tbody>\n",
       "    <tr>\n",
       "      <th>count</th>\n",
       "      <td>20718.000000</td>\n",
       "      <td>20716.000000</td>\n",
       "      <td>20716.000000</td>\n",
       "      <td>20716.000000</td>\n",
       "      <td>20716.000000</td>\n",
       "      <td>20716.000000</td>\n",
       "      <td>20716.000000</td>\n",
       "      <td>20716.000000</td>\n",
       "      <td>20716.000000</td>\n",
       "      <td>20716.000000</td>\n",
       "      <td>20716.000000</td>\n",
       "      <td>2.071600e+04</td>\n",
       "      <td>2.024800e+04</td>\n",
       "      <td>2.017700e+04</td>\n",
       "      <td>2.014900e+04</td>\n",
       "      <td>2.014200e+04</td>\n",
       "    </tr>\n",
       "    <tr>\n",
       "      <th>mean</th>\n",
       "      <td>10358.500000</td>\n",
       "      <td>0.619777</td>\n",
       "      <td>0.635250</td>\n",
       "      <td>5.300348</td>\n",
       "      <td>-7.671680</td>\n",
       "      <td>0.096456</td>\n",
       "      <td>0.291535</td>\n",
       "      <td>0.055962</td>\n",
       "      <td>0.193521</td>\n",
       "      <td>0.529853</td>\n",
       "      <td>120.638340</td>\n",
       "      <td>2.247176e+05</td>\n",
       "      <td>9.393782e+07</td>\n",
       "      <td>6.633411e+05</td>\n",
       "      <td>2.751899e+04</td>\n",
       "      <td>1.359422e+08</td>\n",
       "    </tr>\n",
       "    <tr>\n",
       "      <th>std</th>\n",
       "      <td>5980.915774</td>\n",
       "      <td>0.165272</td>\n",
       "      <td>0.214147</td>\n",
       "      <td>3.576449</td>\n",
       "      <td>4.632749</td>\n",
       "      <td>0.111960</td>\n",
       "      <td>0.286299</td>\n",
       "      <td>0.193262</td>\n",
       "      <td>0.168531</td>\n",
       "      <td>0.245441</td>\n",
       "      <td>29.579018</td>\n",
       "      <td>1.247905e+05</td>\n",
       "      <td>2.746443e+08</td>\n",
       "      <td>1.789324e+06</td>\n",
       "      <td>1.932347e+05</td>\n",
       "      <td>2.441321e+08</td>\n",
       "    </tr>\n",
       "    <tr>\n",
       "      <th>min</th>\n",
       "      <td>0.000000</td>\n",
       "      <td>0.000000</td>\n",
       "      <td>0.000020</td>\n",
       "      <td>0.000000</td>\n",
       "      <td>-46.251000</td>\n",
       "      <td>0.000000</td>\n",
       "      <td>0.000001</td>\n",
       "      <td>0.000000</td>\n",
       "      <td>0.014500</td>\n",
       "      <td>0.000000</td>\n",
       "      <td>0.000000</td>\n",
       "      <td>3.098500e+04</td>\n",
       "      <td>0.000000e+00</td>\n",
       "      <td>0.000000e+00</td>\n",
       "      <td>0.000000e+00</td>\n",
       "      <td>6.574000e+03</td>\n",
       "    </tr>\n",
       "    <tr>\n",
       "      <th>25%</th>\n",
       "      <td>5179.250000</td>\n",
       "      <td>0.518000</td>\n",
       "      <td>0.507000</td>\n",
       "      <td>2.000000</td>\n",
       "      <td>-8.858000</td>\n",
       "      <td>0.035700</td>\n",
       "      <td>0.045200</td>\n",
       "      <td>0.000000</td>\n",
       "      <td>0.094100</td>\n",
       "      <td>0.339000</td>\n",
       "      <td>97.002000</td>\n",
       "      <td>1.800095e+05</td>\n",
       "      <td>1.826002e+06</td>\n",
       "      <td>2.158100e+04</td>\n",
       "      <td>5.090000e+02</td>\n",
       "      <td>1.767486e+07</td>\n",
       "    </tr>\n",
       "    <tr>\n",
       "      <th>50%</th>\n",
       "      <td>10358.500000</td>\n",
       "      <td>0.637000</td>\n",
       "      <td>0.666000</td>\n",
       "      <td>5.000000</td>\n",
       "      <td>-6.536000</td>\n",
       "      <td>0.050500</td>\n",
       "      <td>0.193000</td>\n",
       "      <td>0.000002</td>\n",
       "      <td>0.125000</td>\n",
       "      <td>0.537000</td>\n",
       "      <td>119.965000</td>\n",
       "      <td>2.132845e+05</td>\n",
       "      <td>1.450110e+07</td>\n",
       "      <td>1.244810e+05</td>\n",
       "      <td>3.277000e+03</td>\n",
       "      <td>4.968298e+07</td>\n",
       "    </tr>\n",
       "    <tr>\n",
       "      <th>75%</th>\n",
       "      <td>15537.750000</td>\n",
       "      <td>0.740250</td>\n",
       "      <td>0.798000</td>\n",
       "      <td>8.000000</td>\n",
       "      <td>-4.931000</td>\n",
       "      <td>0.103000</td>\n",
       "      <td>0.477250</td>\n",
       "      <td>0.000463</td>\n",
       "      <td>0.237000</td>\n",
       "      <td>0.726250</td>\n",
       "      <td>139.935000</td>\n",
       "      <td>2.524430e+05</td>\n",
       "      <td>7.039975e+07</td>\n",
       "      <td>5.221480e+05</td>\n",
       "      <td>1.436000e+04</td>\n",
       "      <td>1.383581e+08</td>\n",
       "    </tr>\n",
       "    <tr>\n",
       "      <th>max</th>\n",
       "      <td>20717.000000</td>\n",
       "      <td>0.975000</td>\n",
       "      <td>1.000000</td>\n",
       "      <td>11.000000</td>\n",
       "      <td>0.920000</td>\n",
       "      <td>0.964000</td>\n",
       "      <td>0.996000</td>\n",
       "      <td>1.000000</td>\n",
       "      <td>1.000000</td>\n",
       "      <td>0.993000</td>\n",
       "      <td>243.372000</td>\n",
       "      <td>4.676058e+06</td>\n",
       "      <td>8.079649e+09</td>\n",
       "      <td>5.078865e+07</td>\n",
       "      <td>1.608314e+07</td>\n",
       "      <td>3.386520e+09</td>\n",
       "    </tr>\n",
       "  </tbody>\n",
       "</table>\n",
       "</div>"
      ],
      "text/plain": [
       "         Unnamed: 0  Danceability        Energy           Key      Loudness  \\\n",
       "count  20718.000000  20716.000000  20716.000000  20716.000000  20716.000000   \n",
       "mean   10358.500000      0.619777      0.635250      5.300348     -7.671680   \n",
       "std     5980.915774      0.165272      0.214147      3.576449      4.632749   \n",
       "min        0.000000      0.000000      0.000020      0.000000    -46.251000   \n",
       "25%     5179.250000      0.518000      0.507000      2.000000     -8.858000   \n",
       "50%    10358.500000      0.637000      0.666000      5.000000     -6.536000   \n",
       "75%    15537.750000      0.740250      0.798000      8.000000     -4.931000   \n",
       "max    20717.000000      0.975000      1.000000     11.000000      0.920000   \n",
       "\n",
       "        Speechiness  Acousticness  Instrumentalness      Liveness  \\\n",
       "count  20716.000000  20716.000000      20716.000000  20716.000000   \n",
       "mean       0.096456      0.291535          0.055962      0.193521   \n",
       "std        0.111960      0.286299          0.193262      0.168531   \n",
       "min        0.000000      0.000001          0.000000      0.014500   \n",
       "25%        0.035700      0.045200          0.000000      0.094100   \n",
       "50%        0.050500      0.193000          0.000002      0.125000   \n",
       "75%        0.103000      0.477250          0.000463      0.237000   \n",
       "max        0.964000      0.996000          1.000000      1.000000   \n",
       "\n",
       "            Valence         Tempo   Duration_ms         Views         Likes  \\\n",
       "count  20716.000000  20716.000000  2.071600e+04  2.024800e+04  2.017700e+04   \n",
       "mean       0.529853    120.638340  2.247176e+05  9.393782e+07  6.633411e+05   \n",
       "std        0.245441     29.579018  1.247905e+05  2.746443e+08  1.789324e+06   \n",
       "min        0.000000      0.000000  3.098500e+04  0.000000e+00  0.000000e+00   \n",
       "25%        0.339000     97.002000  1.800095e+05  1.826002e+06  2.158100e+04   \n",
       "50%        0.537000    119.965000  2.132845e+05  1.450110e+07  1.244810e+05   \n",
       "75%        0.726250    139.935000  2.524430e+05  7.039975e+07  5.221480e+05   \n",
       "max        0.993000    243.372000  4.676058e+06  8.079649e+09  5.078865e+07   \n",
       "\n",
       "           Comments        Stream  \n",
       "count  2.014900e+04  2.014200e+04  \n",
       "mean   2.751899e+04  1.359422e+08  \n",
       "std    1.932347e+05  2.441321e+08  \n",
       "min    0.000000e+00  6.574000e+03  \n",
       "25%    5.090000e+02  1.767486e+07  \n",
       "50%    3.277000e+03  4.968298e+07  \n",
       "75%    1.436000e+04  1.383581e+08  \n",
       "max    1.608314e+07  3.386520e+09  "
      ]
     },
     "execution_count": 21,
     "metadata": {},
     "output_type": "execute_result"
    }
   ],
   "source": [
    "jan_data.describe()"
   ]
  },
  {
   "cell_type": "code",
   "execution_count": 23,
   "id": "9c83675e",
   "metadata": {},
   "outputs": [
    {
     "data": {
      "text/plain": [
       "(20718, 28)"
      ]
     },
     "execution_count": 23,
     "metadata": {},
     "output_type": "execute_result"
    }
   ],
   "source": [
    "jan_data.shape"
   ]
  },
  {
   "cell_type": "code",
   "execution_count": 26,
   "id": "7d08864f",
   "metadata": {},
   "outputs": [],
   "source": [
    "jan_data['Trending'] = jan_data.shape[0] + 1 - jan_data['Views'].rank()\n",
    "jan_data = jan_data.sort_values(by='Trending', ascending=True)"
   ]
  },
  {
   "cell_type": "code",
   "execution_count": 27,
   "id": "c0039589",
   "metadata": {},
   "outputs": [],
   "source": [
    "jan_data = jan_data[jan_data.Trending > 1]\n",
    "jan_data = jan_data[jan_data.Views > 1]\n",
    "jan_data = jan_data[jan_data.Likes > 1]"
   ]
  },
  {
   "cell_type": "code",
   "execution_count": 31,
   "id": "53775763",
   "metadata": {},
   "outputs": [
    {
     "data": {
      "text/plain": [
       "<Axes: >"
      ]
     },
     "execution_count": 31,
     "metadata": {},
     "output_type": "execute_result"
    },
    {
     "data": {
      "image/png": "[encoded data removed]",
      "text/plain": [
       "<Figure size 640x480 with 1 Axes>"
      ]
     },
     "metadata": {},
     "output_type": "display_data"
    }
   ],
   "source": [
    "jan_data.Views.hist()"
   ]
  },
  {
   "cell_type": "code",
   "execution_count": null,
   "id": "8eafc3c3",
   "metadata": {},
   "outputs": [],
   "source": [
    "target = 'Trending'\n",
    "categorical = ['Licensed']\n",
    "numerical = ['Views', 'Likes']"
   ]
  }
 ],
 "metadata": {
  "kernelspec": {
   "display_name": "Python 3 (ipykernel)",
   "language": "python",
   "name": "python3"
  },
  "language_info": {
   "codemirror_mode": {
    "name": "ipython",
    "version": 3
   },
   "file_extension": ".py",
   "mimetype": "text/x-python",
   "name": "python",
   "nbconvert_exporter": "python",
   "pygments_lexer": "ipython3",
   "version": "3.9.12"
  }
 },
 "nbformat": 4,
 "nbformat_minor": 5
}
